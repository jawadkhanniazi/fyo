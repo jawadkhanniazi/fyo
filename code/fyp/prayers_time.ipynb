{
 "cells": [
  {
   "cell_type": "code",
   "execution_count": 1,
   "metadata": {},
   "outputs": [],
   "source": [
    "import requests \n",
    "from bs4 import BeautifulSoup"
   ]
  },
  {
   "cell_type": "code",
   "execution_count": 2,
   "metadata": {},
   "outputs": [],
   "source": [
    "url = 'https://www.dawn.com/prayers-timings/'"
   ]
  },
  {
   "cell_type": "code",
   "execution_count": 3,
   "metadata": {},
   "outputs": [],
   "source": [
    "r = requests.get(url)\n",
    "htmlContent = r.content"
   ]
  },
  {
   "cell_type": "code",
   "execution_count": 8,
   "metadata": {},
   "outputs": [],
   "source": [
    "soup = BeautifulSoup(htmlContent, 'html.parser')\n",
    "#print(soup.prettify)"
   ]
  },
  {
   "cell_type": "code",
   "execution_count": 10,
   "metadata": {},
   "outputs": [],
   "source": [
    "body = soup.body\n",
    "\n"
   ]
  },
  {
   "cell_type": "code",
   "execution_count": 24,
   "metadata": {},
   "outputs": [
    {
     "name": "stdout",
     "output_type": "stream",
     "text": [
      "[<td><strong>Karachi</strong></td>, <td>5:52</td>, <td>7:13</td>, <td>12:31</td>, <td>3:29</td>, <td>5:49</td>, <td>7:11</td>, <td><strong>Lahore</strong></td>, <td>5:32</td>, <td>6:58</td>, <td>12:02</td>, <td>2:47</td>, <td>5:05</td>, <td>6:32</td>, <td><strong>Islamabad</strong></td>, <td>5:41</td>, <td>7:09</td>, <td>12:08</td>, <td>2:47</td>, <td>5:05</td>, <td>6:34</td>, <td><strong>Peshawar</strong></td>, <td>5:47</td>, <td>7:16</td>, <td>12:13</td>, <td>2:52</td>, <td>5:10</td>, <td>6:40</td>, <td><strong>Quetta</strong></td>, <td>6:00</td>, <td>7:24</td>, <td>12:32</td>, <td>3:20</td>, <td>5:38</td>, <td>7:04</td>]\n"
     ]
    }
   ],
   "source": [
    "paras = soup.find_all('td')\n",
    "print(paras)"
   ]
  },
  {
   "cell_type": "code",
   "execution_count": 31,
   "metadata": {},
   "outputs": [],
   "source": [
    "def prayerTime():\n",
    "    for text in paras:\n",
    "        print(text.get_text())\n",
    "    "
   ]
  },
  {
   "cell_type": "code",
   "execution_count": 32,
   "metadata": {
    "collapsed": true
   },
   "outputs": [
    {
     "name": "stdout",
     "output_type": "stream",
     "text": [
      "Karachi\n",
      "5:52\n",
      "7:13\n",
      "12:31\n",
      "3:29\n",
      "5:49\n",
      "7:11\n",
      "Lahore\n",
      "5:32\n",
      "6:58\n",
      "12:02\n",
      "2:47\n",
      "5:05\n",
      "6:32\n",
      "Islamabad\n",
      "5:41\n",
      "7:09\n",
      "12:08\n",
      "2:47\n",
      "5:05\n",
      "6:34\n",
      "Peshawar\n",
      "5:47\n",
      "7:16\n",
      "12:13\n",
      "2:52\n",
      "5:10\n",
      "6:40\n",
      "Quetta\n",
      "6:00\n",
      "7:24\n",
      "12:32\n",
      "3:20\n",
      "5:38\n",
      "7:04\n"
     ]
    }
   ],
   "source": [
    "prayerTime()"
   ]
  },
  {
   "cell_type": "code",
   "execution_count": 33,
   "metadata": {
    "collapsed": true
   },
   "outputs": [
    {
     "name": "stdout",
     "output_type": "stream",
     "text": [
      "[<td><strong>Karachi</strong></td>, <td>5:52</td>, <td>7:13</td>, <td>12:31</td>, <td>3:29</td>, <td>5:49</td>, <td>7:11</td>, <td><strong>Lahore</strong></td>, <td>5:32</td>, <td>6:58</td>, <td>12:02</td>, <td>2:47</td>, <td>5:05</td>, <td>6:32</td>, <td><strong>Islamabad</strong></td>, <td>5:41</td>, <td>7:09</td>, <td>12:08</td>, <td>2:47</td>, <td>5:05</td>, <td>6:34</td>, <td><strong>Peshawar</strong></td>, <td>5:47</td>, <td>7:16</td>, <td>12:13</td>, <td>2:52</td>, <td>5:10</td>, <td>6:40</td>, <td><strong>Quetta</strong></td>, <td>6:00</td>, <td>7:24</td>, <td>12:32</td>, <td>3:20</td>, <td>5:38</td>, <td>7:04</td>]\n",
      "Karachi\n",
      "5:52\n",
      "7:13\n",
      "12:31\n",
      "3:29\n",
      "5:49\n",
      "7:11\n",
      "Lahore\n",
      "5:32\n",
      "6:58\n",
      "12:02\n",
      "2:47\n",
      "5:05\n",
      "6:32\n",
      "Islamabad\n",
      "5:41\n",
      "7:09\n",
      "12:08\n",
      "2:47\n",
      "5:05\n",
      "6:34\n",
      "Peshawar\n",
      "5:47\n",
      "7:16\n",
      "12:13\n",
      "2:52\n",
      "5:10\n",
      "6:40\n",
      "Quetta\n",
      "6:00\n",
      "7:24\n",
      "12:32\n",
      "3:20\n",
      "5:38\n",
      "7:04\n"
     ]
    }
   ],
   "source": [
    "import prayers_time as pt"
   ]
  },
  {
   "cell_type": "code",
   "execution_count": 35,
   "metadata": {},
   "outputs": [
    {
     "name": "stdout",
     "output_type": "stream",
     "text": [
      "Karachi\n",
      "5:52\n",
      "7:13\n",
      "12:31\n",
      "3:29\n",
      "5:49\n",
      "7:11\n",
      "Lahore\n",
      "5:32\n",
      "6:58\n",
      "12:02\n",
      "2:47\n",
      "5:05\n",
      "6:32\n",
      "Islamabad\n",
      "5:41\n",
      "7:09\n",
      "12:08\n",
      "2:47\n",
      "5:05\n",
      "6:34\n",
      "Peshawar\n",
      "5:47\n",
      "7:16\n",
      "12:13\n",
      "2:52\n",
      "5:10\n",
      "6:40\n",
      "Quetta\n",
      "6:00\n",
      "7:24\n",
      "12:32\n",
      "3:20\n",
      "5:38\n",
      "7:04\n"
     ]
    }
   ],
   "source": [
    "pt.prayerTime()"
   ]
  },
  {
   "cell_type": "code",
   "execution_count": null,
   "metadata": {},
   "outputs": [],
   "source": []
  }
 ],
 "metadata": {
  "kernelspec": {
   "display_name": "Python 3",
   "language": "python",
   "name": "python3"
  },
  "language_info": {
   "codemirror_mode": {
    "name": "ipython",
    "version": 3
   },
   "file_extension": ".py",
   "mimetype": "text/x-python",
   "name": "python",
   "nbconvert_exporter": "python",
   "pygments_lexer": "ipython3",
   "version": "3.7.3"
  }
 },
 "nbformat": 4,
 "nbformat_minor": 2
}
